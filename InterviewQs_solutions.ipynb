{
 "cells": [
  {
   "cell_type": "code",
   "execution_count": 182,
   "metadata": {
    "collapsed": false
   },
   "outputs": [],
   "source": [
    "#Q1 Given two strings s and t, determine whether some anagram of t is a substring of s. For example: \n",
    "#if s = \"udacity\" and t = \"ad\", then the function returns True.\n",
    "#Your function definition should look like: question1(s, t) and return a boolean True or False."
   ]
  },
  {
   "cell_type": "code",
   "execution_count": 598,
   "metadata": {
    "collapsed": false
   },
   "outputs": [],
   "source": [
    "def question1(s,t):\n",
    "\n",
    "    \n",
    "    if len(t)>len(s):\n",
    "        print(\"Invalid input\")\n",
    "        return\n",
    "    elif not (s and t):\n",
    "        print(\"Invalid input\")\n",
    "        return\n",
    "    \n",
    "    for i in s:\n",
    "        \n",
    "        if i in t:\n",
    "            t = t.replace(i, \"\",1)\n",
    "           \n",
    "            if len(t) == 0: \n",
    "                print(\"Anagram Detected\") \n",
    "                return True\n",
    "       \n",
    "    print(\"No Anagram\")\n",
    "    return False\n"
   ]
  },
  {
   "cell_type": "code",
   "execution_count": 599,
   "metadata": {
    "collapsed": false
   },
   "outputs": [
    {
     "name": "stdout",
     "output_type": "stream",
     "text": [
      "Invalid input\n"
     ]
    }
   ],
   "source": [
    "#Test\n",
    "question1(\"\",\"\")"
   ]
  },
  {
   "cell_type": "code",
   "execution_count": 600,
   "metadata": {
    "collapsed": false
   },
   "outputs": [
    {
     "name": "stdout",
     "output_type": "stream",
     "text": [
      "Invalid input\n"
     ]
    }
   ],
   "source": [
    "question1('','tesla')"
   ]
  },
  {
   "cell_type": "code",
   "execution_count": 601,
   "metadata": {
    "collapsed": false
   },
   "outputs": [
    {
     "name": "stdout",
     "output_type": "stream",
     "text": [
      "Anagram Detected\n"
     ]
    },
    {
     "data": {
      "text/plain": [
       "True"
      ]
     },
     "execution_count": 601,
     "metadata": {},
     "output_type": "execute_result"
    }
   ],
   "source": [
    "question1('#$%','$#')"
   ]
  },
  {
   "cell_type": "code",
   "execution_count": 602,
   "metadata": {
    "collapsed": false
   },
   "outputs": [
    {
     "name": "stdout",
     "output_type": "stream",
     "text": [
      "Anagram Detected\n"
     ]
    },
    {
     "data": {
      "text/plain": [
       "True"
      ]
     },
     "execution_count": 602,
     "metadata": {},
     "output_type": "execute_result"
    }
   ],
   "source": [
    "question1('quickbrownfoxjumpedoveralazydog','god')"
   ]
  },
  {
   "cell_type": "code",
   "execution_count": null,
   "metadata": {
    "collapsed": true
   },
   "outputs": [],
   "source": [
    "#Given a string a, find the longest palindromic substring contained in a. \n",
    "#Your function definition should look like question2(a), and return a string\n"
   ]
  },
  {
   "cell_type": "code",
   "execution_count": 604,
   "metadata": {
    "collapsed": false
   },
   "outputs": [],
   "source": [
    "def question2(a):\n",
    "\n",
    "    a = a.lower()  #convert all strings to lower case char\n",
    "    length=len(a)\n",
    "    \n",
    "    array = []  #initilize an array list\n",
    "   \n",
    "    for i in range(length):\n",
    "        for j in range(0, i):\n",
    "            sub_str = a[j:i] #create substrings\n",
    "            i=i+1\n",
    "            if sub_str == sub_str[::-1]:    #Checking if its palindrome\n",
    "                array.append(sub_str)       #storing each palindromic string in this array\n",
    "                 \n",
    "    if not array:\n",
    "        print ('No Existing Palindrome detected!')\n",
    "\n",
    "    else:\n",
    "        print('Longest Palindromic substring:',max(array,key=len))\n",
    "        "
   ]
  },
  {
   "cell_type": "code",
   "execution_count": 607,
   "metadata": {
    "collapsed": false
   },
   "outputs": [
    {
     "name": "stdout",
     "output_type": "stream",
     "text": [
      "Longest Palindromic substring: racecar\n"
     ]
    }
   ],
   "source": [
    "#Test\n",
    "question2('racecar')"
   ]
  },
  {
   "cell_type": "code",
   "execution_count": 149,
   "metadata": {
    "collapsed": false
   },
   "outputs": [
    {
     "name": "stdout",
     "output_type": "stream",
     "text": [
      "No Existing Palindrome detected!\n"
     ]
    }
   ],
   "source": [
    "#Test\n",
    "question2('')"
   ]
  },
  {
   "cell_type": "code",
   "execution_count": 155,
   "metadata": {
    "collapsed": false
   },
   "outputs": [
    {
     "name": "stdout",
     "output_type": "stream",
     "text": [
      "Longest Palindromic substring: 0000\n"
     ]
    }
   ],
   "source": [
    "#test\n",
    "question2('00003')"
   ]
  },
  {
   "cell_type": "code",
   "execution_count": null,
   "metadata": {
    "collapsed": true
   },
   "outputs": [],
   "source": [
    "Question 3\n",
    "Given an undirected graph G, find the minimum spanning tree within G. \n",
    "A minimum spanning tree connects all vertices in a graph with the smallest possible total weight of edges. \n",
    "Reference:https://stackoverflow.com/questions/32304488/how-to-implement-a-graph-from-an-input-text-file-in-python"
   ]
  },
  {
   "cell_type": "code",
   "execution_count": 396,
   "metadata": {
    "collapsed": false
   },
   "outputs": [],
   "source": [
    "def question3(graph):\n",
    "    if not graph:\n",
    "        print(\"No nodes in graph!\")\n",
    "        return\n",
    "    elif len(graph)<2:\n",
    "        print(\"less than 2 vertices,can't continue!\")\n",
    "        return\n",
    "    \n",
    "    \n",
    "    \n",
    "    vertices = graph.keys()   #get unique set of keys for vertices\n",
    "    edges = set()\n",
    "    for v1 in vertices:\n",
    "        for v2 in graph[v1]:\n",
    "            if v2[0] < v1:\n",
    "                edges.add((v2[1], v2[0], v1))\n",
    "                \n",
    "            else:\n",
    "                \n",
    "                edges.add((v2[1], v1, v2[0]))\n",
    "    \n",
    "\n",
    "    edges=sorted(list(edges), reverse=True)   #sort edges in descending order\n",
    "    \n",
    "    \n",
    "    \n",
    "    mst_graph = {}  #create MST list\n",
    "    \n",
    "    while len(mst_graph) < len(graph):\n",
    "        e = edges.pop()\n",
    "        if e[1] !=e[2]:          #check if the two edges are duuplicate,otherwise add to mst\n",
    "                    mst_graph.setdefault(e[1], []).append((e[2], e[0]))\n",
    "                    mst_graph.setdefault(e[2], []).append((e[1], e[0]))\n",
    "    print(\"Minimum Spamming Tree:\",mst_graph)\n",
    "    return \n"
   ]
  },
  {
   "cell_type": "code",
   "execution_count": 409,
   "metadata": {
    "collapsed": true
   },
   "outputs": [],
   "source": [
    "#Test\n",
    "graph = {'A': [('B', 1), ('C', 5), ('D', 4)],\n",
    "     'B': [('A', 1), ('C', 3), ('D', 7)],\n",
    "     'C': [('A', 6), ('B', 3), ('D', 4)],\n",
    "     'D': [('A', 5), ('B', 7), ('C', 4)]}"
   ]
  },
  {
   "cell_type": "code",
   "execution_count": 410,
   "metadata": {
    "collapsed": false
   },
   "outputs": [
    {
     "name": "stdout",
     "output_type": "stream",
     "text": [
      "Minimum Spamming Tree: {'A': [('B', 1), ('D', 4)], 'B': [('A', 1), ('C', 3)], 'C': [('B', 3)], 'D': [('A', 4)]}\n"
     ]
    }
   ],
   "source": [
    "question3(graph)"
   ]
  },
  {
   "cell_type": "code",
   "execution_count": 399,
   "metadata": {
    "collapsed": false
   },
   "outputs": [
    {
     "name": "stdout",
     "output_type": "stream",
     "text": [
      "No nodes in graph!\n"
     ]
    }
   ],
   "source": [
    "#Test for empty graph\n",
    "question3({})"
   ]
  },
  {
   "cell_type": "code",
   "execution_count": 400,
   "metadata": {
    "collapsed": false
   },
   "outputs": [
    {
     "name": "stdout",
     "output_type": "stream",
     "text": [
      "less than 2 vertices,can't continue!\n"
     ]
    }
   ],
   "source": [
    "#test for only 1 node\n",
    "question3({911})"
   ]
  },
  {
   "cell_type": "code",
   "execution_count": null,
   "metadata": {
    "collapsed": true
   },
   "outputs": [],
   "source": [
    "Q4)Find the least common ancestor between two nodes on a binary search tree. "
   ]
  },
  {
   "cell_type": "code",
   "execution_count": 81,
   "metadata": {
    "collapsed": false
   },
   "outputs": [],
   "source": [
    "def parent(tree, node):\n",
    "    \n",
    "    for row in range(len(tree)):\n",
    "        if tree[row][node] == 1:\n",
    "            return row\n",
    "    return \n",
    "\n",
    "def question4(t, r, n1, n2):\n",
    "    if not t:\n",
    "        print(\"No tree!\")\n",
    "        return\n",
    "    elif not r:\n",
    "        print(\"No Roots\")\n",
    "        return\n",
    "    elif r<0 or n1<0 or n2<0:\n",
    "        print(\"roots/nodes can't be negative!\")\n",
    "        return\n",
    "    elif len(t)<max(r,n1,n2):\n",
    "        print('Not a  valid BST')\n",
    "        return\n",
    "    \n",
    "    n1ray=[]\n",
    "    n2ray=[]\n",
    "    #find the oldest ancestor/parent and storing in node array\n",
    "    while n1!=r:\n",
    "        n1=parent(t,n1)\n",
    "        n1ray.append(n1)\n",
    "    \n",
    "    while n2!=r:\n",
    "        n2=parent(t,n2)\n",
    "        n2ray.append(n2)\n",
    "    \n",
    "    for i in range(len(n1ray)):\n",
    "        for j in range(len(n2ray)):\n",
    "            if(n1ray[i]==n2ray[j]):\n",
    "                return n1ray[i]\n",
    "    return \n"
   ]
  },
  {
   "cell_type": "code",
   "execution_count": 82,
   "metadata": {
    "collapsed": false
   },
   "outputs": [
    {
     "data": {
      "text/plain": [
       "3"
      ]
     },
     "execution_count": 82,
     "metadata": {},
     "output_type": "execute_result"
    }
   ],
   "source": [
    "#Test\n",
    "question4([[0,1,0,0,0],[0,0,0,0,0],[0,0,0,0,0],[1,0,0,0,1],[0,0,0,0,0]],3,1,4)"
   ]
  },
  {
   "cell_type": "code",
   "execution_count": 83,
   "metadata": {
    "collapsed": false
   },
   "outputs": [
    {
     "name": "stdout",
     "output_type": "stream",
     "text": [
      "roots/nodes can't be negative!\n"
     ]
    }
   ],
   "source": [
    "question4([[0,1,0,0,0],[0,0,0,0,0],[0,0,0,0,0],[1,0,0,0,1],[0,0,0,0,0]],-1,-1,3)"
   ]
  },
  {
   "cell_type": "code",
   "execution_count": 84,
   "metadata": {
    "collapsed": false
   },
   "outputs": [
    {
     "name": "stdout",
     "output_type": "stream",
     "text": [
      "Not a  valid BST\n"
     ]
    }
   ],
   "source": [
    "question4([[0,1,0,0,0],[0,0,0,0,0],[0,0,0,0,0],[1,0,0,0,1],[0,0,0,0,0]],100,99,3)"
   ]
  },
  {
   "cell_type": "code",
   "execution_count": null,
   "metadata": {
    "collapsed": true
   },
   "outputs": [],
   "source": [
    "Question 5\n",
    "Find the element in a singly linked list that's m elements from the end. For example, if a linked list has 5 elements, the 3rd element from the end is the 3rd element.\n",
    "reference:https://stackoverflow.com/questions/19310567/counting-the-number-of-values-in-a-linked-list\n",
    "          https://stackoverflow.com/questions/28315201/python-linked-list-append"
   ]
  },
  {
   "cell_type": "code",
   "execution_count": 582,
   "metadata": {
    "collapsed": false
   },
   "outputs": [],
   "source": [
    "class Node(object):\n",
    "    def __init__(self, data):\n",
    "        self.data = data\n",
    "        self.next = None\n",
    "\n",
    "class LinkedList(object):\n",
    "    def __init__(self, head=None):\n",
    "        self.head = head\n",
    "        \n",
    "    def append(self, new_element):\n",
    "        current = self.head\n",
    "        if self.head:\n",
    "            while current.next:\n",
    "                current = current.next\n",
    "            current.next = new_element\n",
    "        else:\n",
    "            self.head = new_element\n",
    "        \n",
    "\n",
    "def question5(ll, m):\n",
    "\n",
    "    if not (ll and m):\n",
    "        print(\"Invalid INput\")\n",
    "        return None\n",
    "    \n",
    "    ptr1 = ll\n",
    "    i = 1\n",
    "    \n",
    "    if ptr1.next is None:\n",
    "        return 1\n",
    "    while ptr1 is not None:\n",
    "        ptr1=ptr1.next\n",
    "        i=i+1\n",
    "    length=i-m\n",
    "    num=1\n",
    "    ptr1=ll\n",
    "    \n",
    "    if num>0:\n",
    "        \n",
    "        while num<length:\n",
    "            ptr1=ptr1.next\n",
    "            num=num+1\n",
    "        if length>0:\n",
    "            return ptr1.data\n",
    "        else:\n",
    "            print(\"Out of bound!\")\n",
    "            return"
   ]
  },
  {
   "cell_type": "code",
   "execution_count": 578,
   "metadata": {
    "collapsed": true
   },
   "outputs": [],
   "source": [
    "root = Node(20)\n",
    "a = Node(30)\n",
    "b = Node(80)\n",
    "c = Node(10)\n",
    "d=  Node(5)\n",
    "ll = LinkedList(root)\n",
    "ll.append(a)\n",
    "ll.append(b)\n",
    "ll.append(c)\n",
    "ll.append(d)"
   ]
  },
  {
   "cell_type": "code",
   "execution_count": 579,
   "metadata": {
    "collapsed": false
   },
   "outputs": [
    {
     "data": {
      "text/plain": [
       "10"
      ]
     },
     "execution_count": 579,
     "metadata": {},
     "output_type": "execute_result"
    }
   ],
   "source": [
    "#Test\n",
    "question5(r, 2)"
   ]
  },
  {
   "cell_type": "code",
   "execution_count": 580,
   "metadata": {
    "collapsed": false
   },
   "outputs": [
    {
     "name": "stdout",
     "output_type": "stream",
     "text": [
      "Invalid INput\n"
     ]
    }
   ],
   "source": [
    "question5(root, 0)"
   ]
  },
  {
   "cell_type": "code",
   "execution_count": 581,
   "metadata": {
    "collapsed": false
   },
   "outputs": [
    {
     "name": "stdout",
     "output_type": "stream",
     "text": [
      "Out of bound!\n"
     ]
    }
   ],
   "source": [
    "question5(root, 6)"
   ]
  }
 ],
 "metadata": {
  "kernelspec": {
   "display_name": "Python 3",
   "language": "python",
   "name": "python3"
  },
  "language_info": {
   "codemirror_mode": {
    "name": "ipython",
    "version": 3
   },
   "file_extension": ".py",
   "mimetype": "text/x-python",
   "name": "python",
   "nbconvert_exporter": "python",
   "pygments_lexer": "ipython3",
   "version": "3.6.0"
  }
 },
 "nbformat": 4,
 "nbformat_minor": 2
}
