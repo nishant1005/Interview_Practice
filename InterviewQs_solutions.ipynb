{
 "cells": [
  {
   "cell_type": "code",
   "execution_count": null,
   "metadata": {
    "collapsed": true
   },
   "outputs": [],
   "source": [
    "# Q1 Given two strings s and t, determine whether some anagram of t is a substring of s. For example: \n",
    "#if s = \"udacity\" and t = \"ad\", then the function returns True.\n",
    "#Your function definition should look like: question1(s, t) and return a boolean True or False."
   ]
  },
  {
   "cell_type": "code",
   "execution_count": 5,
   "metadata": {
    "collapsed": false
   },
   "outputs": [
    {
     "name": "stdout",
     "output_type": "stream",
     "text": [
      "enter string s :d\n",
      "enter string t :hjj\n",
      "Invalid input\n"
     ]
    }
   ],
   "source": [
    "def question1():\n",
    "\n",
    "    if len(t)>len(s):\n",
    "        print(\"Invalid input\")\n",
    "        return \n",
    "    \n",
    "    for i in s:\n",
    "        \n",
    "        if i in t:\n",
    "            t = t.replace(i, \"\",1)\n",
    "           \n",
    "            if len(t) == 0: \n",
    "                print(\"Anagram Detected\") \n",
    "                return True\n",
    "       \n",
    "    print(\"No Anagram\")\n",
    "    return False\n",
    "\n",
    "if __name__ == \"__main__\":\n",
    "    question1()"
   ]
  },
  {
   "cell_type": "code",
   "execution_count": 83,
   "metadata": {
    "collapsed": false
   },
   "outputs": [
    {
     "name": "stdout",
     "output_type": "stream",
     "text": [
      "enter string :peacock\n",
      "enter string :hlpp\n",
      "No Anagram\n"
     ]
    },
    {
     "data": {
      "text/plain": [
       "False"
      ]
     },
     "execution_count": 83,
     "metadata": {},
     "output_type": "execute_result"
    }
   ],
   "source": [
    "question1()"
   ]
  },
  {
   "cell_type": "code",
   "execution_count": 51,
   "metadata": {
    "collapsed": false
   },
   "outputs": [
    {
     "name": "stdout",
     "output_type": "stream",
     "text": [
      "Invalid input\n"
     ]
    }
   ],
   "source": [
    "question1('','tesla')"
   ]
  },
  {
   "cell_type": "code",
   "execution_count": 55,
   "metadata": {
    "collapsed": false
   },
   "outputs": [
    {
     "name": "stdout",
     "output_type": "stream",
     "text": [
      "No Anagram\n"
     ]
    },
    {
     "data": {
      "text/plain": [
       "False"
      ]
     },
     "execution_count": 55,
     "metadata": {},
     "output_type": "execute_result"
    }
   ],
   "source": [
    "question1('supervised','supervised')"
   ]
  },
  {
   "cell_type": "code",
   "execution_count": 53,
   "metadata": {
    "collapsed": false
   },
   "outputs": [
    {
     "name": "stdout",
     "output_type": "stream",
     "text": [
      "Anagram Detected\n"
     ]
    },
    {
     "data": {
      "text/plain": [
       "True"
      ]
     },
     "execution_count": 53,
     "metadata": {},
     "output_type": "execute_result"
    }
   ],
   "source": [
    "question1('#$%','$#')"
   ]
  },
  {
   "cell_type": "code",
   "execution_count": 54,
   "metadata": {
    "collapsed": false
   },
   "outputs": [
    {
     "name": "stdout",
     "output_type": "stream",
     "text": [
      "Anagram Detected\n"
     ]
    },
    {
     "data": {
      "text/plain": [
       "True"
      ]
     },
     "execution_count": 54,
     "metadata": {},
     "output_type": "execute_result"
    }
   ],
   "source": [
    "question1('quickbrownfoxjumpedoveralazydog','god')"
   ]
  },
  {
   "cell_type": "code",
   "execution_count": null,
   "metadata": {
    "collapsed": true
   },
   "outputs": [],
   "source": [
    "#Given a string a, find the longest palindromic substring contained in a. \n",
    "#Your function definition should look like question2(a), and return a string\n"
   ]
  },
  {
   "cell_type": "code",
   "execution_count": 147,
   "metadata": {
    "collapsed": false
   },
   "outputs": [],
   "source": [
    "def question2(a):\n",
    "\n",
    "    a = a.lower()  #convert all strings to lower case char\n",
    "    length=len(a)\n",
    "    \n",
    "    array = []  #initilize an array list\n",
    "   \n",
    "    for i in range(length):\n",
    "        for j in range(0, i):\n",
    "            sub_str = a[j:i] #create substrings\n",
    "            i=i+1\n",
    "            if sub_str == sub_str[::-1]:    #Checking if its palindrome\n",
    "                array.append(sub_str)       #storing each palindromic string in this array\n",
    "                 \n",
    "    if not array:\n",
    "        print ('No Existing Palindrome detected!')\n",
    "\n",
    "    else:\n",
    "        print('Longest Palindromic substring:',max(array,key=len))\n",
    "        "
   ]
  },
  {
   "cell_type": "code",
   "execution_count": 148,
   "metadata": {
    "collapsed": false
   },
   "outputs": [
    {
     "name": "stdout",
     "output_type": "stream",
     "text": [
      "Longest Palindromic substring: racecar\n"
     ]
    }
   ],
   "source": [
    "question2('racecar is stats')"
   ]
  },
  {
   "cell_type": "code",
   "execution_count": 149,
   "metadata": {
    "collapsed": false
   },
   "outputs": [
    {
     "name": "stdout",
     "output_type": "stream",
     "text": [
      "No Existing Palindrome detected!\n"
     ]
    }
   ],
   "source": [
    "question2('')"
   ]
  },
  {
   "cell_type": "code",
   "execution_count": 155,
   "metadata": {
    "collapsed": false
   },
   "outputs": [
    {
     "name": "stdout",
     "output_type": "stream",
     "text": [
      "Longest Palindromic substring: 0000\n"
     ]
    }
   ],
   "source": [
    "question2('00003')"
   ]
  },
  {
   "cell_type": "code",
   "execution_count": null,
   "metadata": {
    "collapsed": true
   },
   "outputs": [],
   "source": [
    "Question 3\n",
    "Given an undirected graph G, find the minimum spanning tree within G. \n",
    "A minimum spanning tree connects all vertices in a graph with the smallest possible total weight of edges. \n",
    "Reference:https://stackoverflow.com/questions/32304488/how-to-implement-a-graph-from-an-input-text-file-in-python"
   ]
  },
  {
   "cell_type": "code",
   "execution_count": 396,
   "metadata": {
    "collapsed": false
   },
   "outputs": [],
   "source": [
    "def question3(graph):\n",
    "    if not graph:\n",
    "        print(\"No nodes in graph!\")\n",
    "        return\n",
    "    elif len(graph)<2:\n",
    "        print(\"less than 2 vertices,can't continue!\")\n",
    "        return\n",
    "    \n",
    "    \n",
    "    \n",
    "    vertices = graph.keys()   #get unique set of keys for vertices\n",
    "    edges = set()\n",
    "    for v1 in vertices:\n",
    "        for v2 in graph[v1]:\n",
    "            if v2[0] < v1:\n",
    "                edges.add((v2[1], v2[0], v1))\n",
    "                \n",
    "            else:\n",
    "                \n",
    "                edges.add((v2[1], v1, v2[0]))\n",
    "    \n",
    "\n",
    "    edges=sorted(list(edges), reverse=True)   #sort edges in descending order\n",
    "    \n",
    "    \n",
    "    \n",
    "    mst_graph = {}  #create MST list\n",
    "    \n",
    "    while len(mst_graph) < len(graph):\n",
    "        e = edges.pop()\n",
    "        if e[1] !=e[2]:          #check if the two edges are duuplicate,otherwise add to mst\n",
    "                    mst_graph.setdefault(e[1], []).append((e[2], e[0]))\n",
    "                    mst_graph.setdefault(e[2], []).append((e[1], e[0]))\n",
    "    print(\"Minimum Spamming Tree:\",mst_graph)\n",
    "    return \n"
   ]
  },
  {
   "cell_type": "code",
   "execution_count": 409,
   "metadata": {
    "collapsed": true
   },
   "outputs": [],
   "source": [
    "graph = {'A': [('B', 1), ('C', 5), ('D', 4)],\n",
    "     'B': [('A', 1), ('C', 3), ('D', 7)],\n",
    "     'C': [('A', 6), ('B', 3), ('D', 4)],\n",
    "     'D': [('A', 5), ('B', 7), ('C', 4)]}"
   ]
  },
  {
   "cell_type": "code",
   "execution_count": 410,
   "metadata": {
    "collapsed": false
   },
   "outputs": [
    {
     "name": "stdout",
     "output_type": "stream",
     "text": [
      "Minimum Spamming Tree: {'A': [('B', 1), ('D', 4)], 'B': [('A', 1), ('C', 3)], 'C': [('B', 3)], 'D': [('A', 4)]}\n"
     ]
    }
   ],
   "source": [
    "question3(graph)"
   ]
  },
  {
   "cell_type": "code",
   "execution_count": 399,
   "metadata": {
    "collapsed": false
   },
   "outputs": [
    {
     "name": "stdout",
     "output_type": "stream",
     "text": [
      "No nodes in graph!\n"
     ]
    }
   ],
   "source": [
    "#Test for empty graph\n",
    "question3({})"
   ]
  },
  {
   "cell_type": "code",
   "execution_count": 400,
   "metadata": {
    "collapsed": false
   },
   "outputs": [
    {
     "name": "stdout",
     "output_type": "stream",
     "text": [
      "less than 2 vertices,can't continue!\n"
     ]
    }
   ],
   "source": [
    "#test for only 1 node\n",
    "question3({911})"
   ]
  },
  {
   "cell_type": "code",
   "execution_count": null,
   "metadata": {
    "collapsed": true
   },
   "outputs": [],
   "source": [
    "Q4)Find the least common ancestor between two nodes on a binary search tree. "
   ]
  },
  {
   "cell_type": "code",
   "execution_count": 81,
   "metadata": {
    "collapsed": false
   },
   "outputs": [],
   "source": [
    "def parent(tree, node):\n",
    "    \n",
    "    for row in range(len(tree)):\n",
    "        if tree[row][node] == 1:\n",
    "            return row\n",
    "    return \n",
    "\n",
    "def question4(t, r, n1, n2):\n",
    "    if not t:\n",
    "        print(\"No tree!\")\n",
    "        return\n",
    "    elif not r:\n",
    "        print(\"No Roots\")\n",
    "        return\n",
    "    elif r<0 or n1<0 or n2<0:\n",
    "        print(\"roots/nodes can't be negative!\")\n",
    "        return\n",
    "    elif len(t)<max(r,n1,n2):\n",
    "        print('Not a  valid BST')\n",
    "        return\n",
    "    \n",
    "    n1ray=[]\n",
    "    n2ray=[]\n",
    "    #find the oldest ancestor/parent and storing in node array\n",
    "    while n1!=r:\n",
    "        n1=parent(t,n1)\n",
    "        n1ray.append(n1)\n",
    "    \n",
    "    while n2!=r:\n",
    "        n2=parent(t,n2)\n",
    "        n2ray.append(n2)\n",
    "    \n",
    "    for i in range(len(n1ray)):\n",
    "        for j in range(len(n2ray)):\n",
    "            if(n1ray[i]==n2ray[j]):\n",
    "                return n1ray[i]\n",
    "    return \n"
   ]
  },
  {
   "cell_type": "code",
   "execution_count": 82,
   "metadata": {
    "collapsed": false
   },
   "outputs": [
    {
     "data": {
      "text/plain": [
       "3"
      ]
     },
     "execution_count": 82,
     "metadata": {},
     "output_type": "execute_result"
    }
   ],
   "source": [
    "question4([[0,1,0,0,0],[0,0,0,0,0],[0,0,0,0,0],[1,0,0,0,1],[0,0,0,0,0]],3,1,4)"
   ]
  },
  {
   "cell_type": "code",
   "execution_count": 83,
   "metadata": {
    "collapsed": false
   },
   "outputs": [
    {
     "name": "stdout",
     "output_type": "stream",
     "text": [
      "roots/nodes can't be negative!\n"
     ]
    }
   ],
   "source": [
    "question4([[0,1,0,0,0],[0,0,0,0,0],[0,0,0,0,0],[1,0,0,0,1],[0,0,0,0,0]],-1,-1,3)"
   ]
  },
  {
   "cell_type": "code",
   "execution_count": 84,
   "metadata": {
    "collapsed": false
   },
   "outputs": [
    {
     "name": "stdout",
     "output_type": "stream",
     "text": [
      "Not a  valid BST\n"
     ]
    }
   ],
   "source": [
    "question4([[0,1,0,0,0],[0,0,0,0,0],[0,0,0,0,0],[1,0,0,0,1],[0,0,0,0,0]],100,99,3)"
   ]
  },
  {
   "cell_type": "code",
   "execution_count": null,
   "metadata": {
    "collapsed": true
   },
   "outputs": [],
   "source": [
    "Question 5\n",
    "Find the element in a singly linked list that's m elements from the end. For example, if a linked list has 5 elements, the 3rd element from the end is the 3rd element.\n",
    "reference:https://stackoverflow.com/questions/19310567/counting-the-number-of-values-in-a-linked-list"
   ]
  },
  {
   "cell_type": "code",
   "execution_count": 175,
   "metadata": {
    "collapsed": false
   },
   "outputs": [],
   "source": [
    "class Node:\n",
    "    def __init__(self,value):\n",
    "        self.next = None\n",
    "        self.value = value\n",
    "     \n",
    "    def buildlist(root,node):\n",
    "        if root.next is not None:\n",
    "            Node.buildlist(root.next, node)\n",
    "        else:\n",
    "            root.next=node\n",
    "    \n",
    "    \n",
    "    \n",
    "    def question5(l1,m):\n",
    "        n=1\n",
    "        if m>list_len(list_root):\n",
    "            print(\"Invalid lenght\")\n",
    "        elif not (l1 and m):\n",
    "            return False\n",
    "        variable=list_len(list_root)-(m+1)\n",
    "        \n",
    "        while n!=variable:\n",
    "            l1=l1.next\n",
    "            n+=1\n",
    "        #print(\"The %d in  the list is %d\" %(str(m),str(l1.value)))\n",
    "        return str(m)+\" number from the end is: \"+str(m.value)\n",
    "    \n",
    "    \n",
    "    \n",
    "    def list_len(list_root):\n",
    "        count=0\n",
    "        head=root.next\n",
    "        if head is None:\n",
    "            return 1\n",
    "        while (head):\n",
    "            count+=count\n",
    "            root=head\n",
    "        return count+1\n",
    "  "
   ]
  },
  {
   "cell_type": "code",
   "execution_count": 176,
   "metadata": {
    "collapsed": true
   },
   "outputs": [],
   "source": [
    "temp=Node\n",
    "r = Node(9)"
   ]
  },
  {
   "cell_type": "code",
   "execution_count": 177,
   "metadata": {
    "collapsed": true
   },
   "outputs": [],
   "source": [
    "a = Node(5)\n",
    "b = Node(6)\n",
    "c = Node(4)\n",
    "d = Node(7)\n",
    "e = Node(2)\n",
    "f = Node(8)\n",
    "g = Node(1)"
   ]
  }
 ],
 "metadata": {
  "kernelspec": {
   "display_name": "Python 3",
   "language": "python",
   "name": "python3"
  },
  "language_info": {
   "codemirror_mode": {
    "name": "ipython",
    "version": 3
   },
   "file_extension": ".py",
   "mimetype": "text/x-python",
   "name": "python",
   "nbconvert_exporter": "python",
   "pygments_lexer": "ipython3",
   "version": "3.6.0"
  }
 },
 "nbformat": 4,
 "nbformat_minor": 2
}
