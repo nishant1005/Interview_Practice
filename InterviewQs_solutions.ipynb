{
 "cells": [
  {
   "cell_type": "code",
   "execution_count": null,
   "metadata": {
    "collapsed": true
   },
   "outputs": [],
   "source": [
    "# Q1 Given two strings s and t, determine whether some anagram of t is a substring of s. For example: \n",
    "#if s = \"udacity\" and t = \"ad\", then the function returns True.\n",
    "#Your function definition should look like: question1(s, t) and return a boolean True or False."
   ]
  },
  {
   "cell_type": "code",
   "execution_count": 5,
   "metadata": {
    "collapsed": false
   },
   "outputs": [
    {
     "name": "stdout",
     "output_type": "stream",
     "text": [
      "enter string s :d\n",
      "enter string t :hjj\n",
      "Invalid input\n"
     ]
    }
   ],
   "source": [
    "def question1():\n",
    "\n",
    "    if len(t)>len(s):\n",
    "        print(\"Invalid input\")\n",
    "        return \n",
    "    \n",
    "    for i in s:\n",
    "        \n",
    "        if i in t:\n",
    "            t = t.replace(i, \"\",1)\n",
    "           \n",
    "            if len(t) == 0: \n",
    "                print(\"Anagram Detected\") \n",
    "                return True\n",
    "       \n",
    "    print(\"No Anagram\")\n",
    "    return False\n",
    "\n",
    "if __name__ == \"__main__\":\n",
    "    question1()"
   ]
  },
  {
   "cell_type": "code",
   "execution_count": 83,
   "metadata": {
    "collapsed": false
   },
   "outputs": [
    {
     "name": "stdout",
     "output_type": "stream",
     "text": [
      "enter string :peacock\n",
      "enter string :hlpp\n",
      "No Anagram\n"
     ]
    },
    {
     "data": {
      "text/plain": [
       "False"
      ]
     },
     "execution_count": 83,
     "metadata": {},
     "output_type": "execute_result"
    }
   ],
   "source": [
    "question1()"
   ]
  },
  {
   "cell_type": "code",
   "execution_count": 51,
   "metadata": {
    "collapsed": false
   },
   "outputs": [
    {
     "name": "stdout",
     "output_type": "stream",
     "text": [
      "Invalid input\n"
     ]
    }
   ],
   "source": [
    "question1('','tesla')"
   ]
  },
  {
   "cell_type": "code",
   "execution_count": 55,
   "metadata": {
    "collapsed": false
   },
   "outputs": [
    {
     "name": "stdout",
     "output_type": "stream",
     "text": [
      "No Anagram\n"
     ]
    },
    {
     "data": {
      "text/plain": [
       "False"
      ]
     },
     "execution_count": 55,
     "metadata": {},
     "output_type": "execute_result"
    }
   ],
   "source": [
    "question1('supervised','supervised')"
   ]
  },
  {
   "cell_type": "code",
   "execution_count": 53,
   "metadata": {
    "collapsed": false
   },
   "outputs": [
    {
     "name": "stdout",
     "output_type": "stream",
     "text": [
      "Anagram Detected\n"
     ]
    },
    {
     "data": {
      "text/plain": [
       "True"
      ]
     },
     "execution_count": 53,
     "metadata": {},
     "output_type": "execute_result"
    }
   ],
   "source": [
    "question1('#$%','$#')"
   ]
  },
  {
   "cell_type": "code",
   "execution_count": 54,
   "metadata": {
    "collapsed": false
   },
   "outputs": [
    {
     "name": "stdout",
     "output_type": "stream",
     "text": [
      "Anagram Detected\n"
     ]
    },
    {
     "data": {
      "text/plain": [
       "True"
      ]
     },
     "execution_count": 54,
     "metadata": {},
     "output_type": "execute_result"
    }
   ],
   "source": [
    "question1('quickbrownfoxjumpedoveralazydog','god')"
   ]
  },
  {
   "cell_type": "code",
   "execution_count": null,
   "metadata": {
    "collapsed": true
   },
   "outputs": [],
   "source": [
    "#Given a string a, find the longest palindromic substring contained in a. \n",
    "#Your function definition should look like question2(a), and return a string\n"
   ]
  },
  {
   "cell_type": "code",
   "execution_count": 147,
   "metadata": {
    "collapsed": false
   },
   "outputs": [],
   "source": [
    "def question2(a):\n",
    "\n",
    "    a = a.lower()  #convert all strings to lower case char\n",
    "    length=len(a)\n",
    "    \n",
    "    array = []  #initilize an array list\n",
    "   \n",
    "    for i in range(length):\n",
    "        for j in range(0, i):\n",
    "            sub_str = a[j:i] #create substrings\n",
    "            i=i+1\n",
    "            if sub_str == sub_str[::-1]:    #Checking if its palindrome\n",
    "                array.append(sub_str)       #storing each palindromic string in this array\n",
    "                 \n",
    "    if not array:\n",
    "        print ('No Existing Palindrome detected!')\n",
    "\n",
    "    else:\n",
    "        print('Longest Palindromic substring:',max(array,key=len))\n",
    "        "
   ]
  },
  {
   "cell_type": "code",
   "execution_count": 148,
   "metadata": {
    "collapsed": false
   },
   "outputs": [
    {
     "name": "stdout",
     "output_type": "stream",
     "text": [
      "Longest Palindromic substring: racecar\n"
     ]
    }
   ],
   "source": [
    "question2('racecar is stats')"
   ]
  },
  {
   "cell_type": "code",
   "execution_count": 149,
   "metadata": {
    "collapsed": false
   },
   "outputs": [
    {
     "name": "stdout",
     "output_type": "stream",
     "text": [
      "No Existing Palindrome detected!\n"
     ]
    }
   ],
   "source": [
    "question2('')"
   ]
  },
  {
   "cell_type": "code",
   "execution_count": 155,
   "metadata": {
    "collapsed": false
   },
   "outputs": [
    {
     "name": "stdout",
     "output_type": "stream",
     "text": [
      "Longest Palindromic substring: 0000\n"
     ]
    }
   ],
   "source": [
    "question2('00003')"
   ]
  },
  {
   "cell_type": "code",
   "execution_count": null,
   "metadata": {
    "collapsed": true
   },
   "outputs": [],
   "source": [
    "Question 3\n",
    "Given an undirected graph G, find the minimum spanning tree within G. \n",
    "A minimum spanning tree connects all vertices in a graph with the smallest possible total weight of edges. \n"
   ]
  },
  {
   "cell_type": "code",
   "execution_count": null,
   "metadata": {
    "collapsed": true
   },
   "outputs": [],
   "source": [
    "#WORK in Progress "
   ]
  }
 ],
 "metadata": {
  "kernelspec": {
   "display_name": "Python 3",
   "language": "python",
   "name": "python3"
  },
  "language_info": {
   "codemirror_mode": {
    "name": "ipython",
    "version": 3
   },
   "file_extension": ".py",
   "mimetype": "text/x-python",
   "name": "python",
   "nbconvert_exporter": "python",
   "pygments_lexer": "ipython3",
   "version": "3.6.0"
  }
 },
 "nbformat": 4,
 "nbformat_minor": 2
}
