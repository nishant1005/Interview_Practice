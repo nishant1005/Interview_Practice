{
 "cells": [
  {
   "cell_type": "code",
   "execution_count": 37,
   "metadata": {
    "collapsed": false
   },
   "outputs": [],
   "source": [
    "class leet1:\n",
    "    def twoSum(self, array, target):\n",
    "        dict = {}\n",
    "        for i, j in enumerate(array):\n",
    "            if target - j in dict:\n",
    "                return (dict[target - j] + 1, i + 1)\n",
    "            dict[j] = i"
   ]
  },
  {
   "cell_type": "code",
   "execution_count": 38,
   "metadata": {
    "collapsed": false
   },
   "outputs": [
    {
     "name": "stdout",
     "output_type": "stream",
     "text": [
      "index1=3, index2=4\n"
     ]
    }
   ],
   "source": [
    "print(\"index1=%d, index2=%d\" % leet1().twoSum((34,32,10,5),15))"
   ]
  }
 ],
 "metadata": {
  "kernelspec": {
   "display_name": "Python 3",
   "language": "python",
   "name": "python3"
  },
  "language_info": {
   "codemirror_mode": {
    "name": "ipython",
    "version": 3
   },
   "file_extension": ".py",
   "mimetype": "text/x-python",
   "name": "python",
   "nbconvert_exporter": "python",
   "pygments_lexer": "ipython3",
   "version": "3.6.0"
  }
 },
 "nbformat": 4,
 "nbformat_minor": 2
}
